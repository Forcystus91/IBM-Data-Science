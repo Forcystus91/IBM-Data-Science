{
 "cells": [
  {
   "cell_type": "markdown",
   "metadata": {},
   "source": [
    "## Reading Files with Open\n",
    "\n",
    "In this section, we will us Python's built in open function to create a file object and obtain the data from a .txt file. \n",
    "\n",
    "We can open the file example.txt as follows:"
   ]
  },
  {
   "cell_type": "code",
   "execution_count": 1,
   "metadata": {},
   "outputs": [],
   "source": [
    "file1 = open('example.txt','r')"
   ]
  },
  {
   "cell_type": "markdown",
   "metadata": {},
   "source": [
    "We can now use the file object to obtain information about the file.\n",
    "- We can use the data attribute name to get the name of the file:"
   ]
  },
  {
   "cell_type": "code",
   "execution_count": 2,
   "metadata": {},
   "outputs": [
    {
     "data": {
      "text/plain": [
       "'example.txt'"
      ]
     },
     "execution_count": 2,
     "metadata": {},
     "output_type": "execute_result"
    }
   ],
   "source": [
    "file1.name"
   ]
  },
  {
   "cell_type": "markdown",
   "metadata": {},
   "source": [
    "We can see what mode the object is in using the data attribute mode:"
   ]
  },
  {
   "cell_type": "code",
   "execution_count": 3,
   "metadata": {},
   "outputs": [
    {
     "data": {
      "text/plain": [
       "'r'"
      ]
     },
     "execution_count": 3,
     "metadata": {},
     "output_type": "execute_result"
    }
   ],
   "source": [
    "file1.mode"
   ]
  },
  {
   "cell_type": "markdown",
   "metadata": {},
   "source": [
    "You chould always close the file object using the method close"
   ]
  },
  {
   "cell_type": "code",
   "execution_count": 4,
   "metadata": {},
   "outputs": [],
   "source": [
    "file1.close()"
   ]
  },
  {
   "cell_type": "markdown",
   "metadata": {},
   "source": [
    "We can use a with statement to avoid needing to manually close the file"
   ]
  },
  {
   "cell_type": "code",
   "execution_count": 7,
   "metadata": {},
   "outputs": [
    {
     "name": "stdout",
     "output_type": "stream",
     "text": [
      "This is example.txt\n",
      "True\n",
      "This is example.txt\n"
     ]
    }
   ],
   "source": [
    "with open('example.txt','r') as file1:\n",
    "    file_stuff = file1.read()\n",
    "    print(file_stuff)\n",
    "\n",
    "print(file1.closed) # Will return True if the file is closed\n",
    "print(file_stuff)"
   ]
  },
  {
   "cell_type": "markdown",
   "metadata": {},
   "source": [
    "The with statement will run everything within the indent block and then automatically closes the file.\n",
    "\n",
    "We can output every line as an element in a list using the method readlines()"
   ]
  },
  {
   "cell_type": "code",
   "execution_count": 8,
   "metadata": {},
   "outputs": [
    {
     "name": "stdout",
     "output_type": "stream",
     "text": [
      "['This is example.txt\\n', 'This is line 2\\n', 'This is line 3']\n"
     ]
    }
   ],
   "source": [
    "with open('example.txt','r') as file1:\n",
    "    file_stuff = file1.readlines()\n",
    "    print(file_stuff)"
   ]
  },
  {
   "cell_type": "markdown",
   "metadata": {},
   "source": [
    "We can use the method readline() to read the first line in the file. "
   ]
  },
  {
   "cell_type": "code",
   "execution_count": 10,
   "metadata": {},
   "outputs": [
    {
     "name": "stdout",
     "output_type": "stream",
     "text": [
      "This is example.txt\n",
      "\n"
     ]
    }
   ],
   "source": [
    "with open('example.txt','r') as file1:\n",
    "    file_stuff = file1.readline()\n",
    "    print(file_stuff)"
   ]
  },
  {
   "cell_type": "markdown",
   "metadata": {},
   "source": [
    "The first time it is called, it will save the first line in the variable 'file_stuff'. The sceond time it's called, it will save the second line, etc.\n",
    "\n",
    "We can specify the number of characters we would like to read from the string as an argument to the method 'readline' or 'read'. readline can only read one line at most, however read will read the entire file."
   ]
  },
  {
   "cell_type": "code",
   "execution_count": 17,
   "metadata": {},
   "outputs": [
    {
     "name": "stdout",
     "output_type": "stream",
     "text": [
      "Th\n",
      "is is example.tx\n"
     ]
    }
   ],
   "source": [
    "with open('example.txt','r') as file1:\n",
    "    file_stuff = file1.readline(2)\n",
    "    print(file_stuff)\n",
    "    file_stuff = file1.readline(16)\n",
    "    print(file_stuff)"
   ]
  },
  {
   "cell_type": "markdown",
   "metadata": {},
   "source": [
    "### Writing Files with open\n",
    "We can use Python's open function to get a file object to create a text file. we can apply the method write to write data to that file.\n",
    "\n",
    "We can create the file example2.txt as follows:"
   ]
  },
  {
   "cell_type": "code",
   "execution_count": 21,
   "metadata": {},
   "outputs": [],
   "source": [
    "file1 = open('example.2.txt','w')\n",
    "file1.close()"
   ]
  },
  {
   "cell_type": "markdown",
   "metadata": {},
   "source": [
    "When using the 'w' mode, if the file already exist in the directory, it will be overwritten. Otherwise it will be created. As before, we can use the with statement:"
   ]
  },
  {
   "cell_type": "code",
   "execution_count": 24,
   "metadata": {},
   "outputs": [],
   "source": [
    "with open('example2.txt','w') as file1:\n",
    "    file1.write('This is line A\\n')\n",
    "    file1.write('This is line B\\n')"
   ]
  },
  {
   "cell_type": "markdown",
   "metadata": {},
   "source": [
    "This will create a file example2.txt and write the above lines to the file. Each time the write function is called, it will write to the file."
   ]
  },
  {
   "cell_type": "markdown",
   "metadata": {},
   "source": [
    "We can set the mode to append using 'a'. This will not create a new file but just use the existing one. If we call the method write, it will just write to the existing file."
   ]
  },
  {
   "cell_type": "code",
   "execution_count": 26,
   "metadata": {},
   "outputs": [],
   "source": [
    "with open('example2.txt','a') as file1:\n",
    "    file1.write('This is line C\\n')"
   ]
  },
  {
   "cell_type": "markdown",
   "metadata": {},
   "source": [
    "We can copy one file to another as follows:"
   ]
  },
  {
   "cell_type": "code",
   "execution_count": 27,
   "metadata": {},
   "outputs": [],
   "source": [
    "with open('example2.txt','r') as readfile:\n",
    "    with open('example2copy.txt','w') as writefile:\n",
    "        for line in readfile:\n",
    "            writefile.write(line)"
   ]
  },
  {
   "cell_type": "markdown",
   "metadata": {},
   "source": [
    "- First, we read the file example2.txt and interact with it via the file object, read file. \n",
    "- Then, we create a new file and use the file object write file to interact with it\n",
    "- The for loop takes a line from the readfile and stores it in our new file.\n",
    "- This process is repeated until the end of the file is reached, at which point both files are closed."
   ]
  },
  {
   "cell_type": "markdown",
   "metadata": {},
   "source": [
    "### Loading data with Pandas"
   ]
  },
  {
   "cell_type": "code",
   "execution_count": 28,
   "metadata": {},
   "outputs": [],
   "source": [
    "import pandas as pd"
   ]
  },
  {
   "cell_type": "markdown",
   "metadata": {},
   "source": [
    "One way pandas allows you to work with data is with a dataframe.\n",
    "\n",
    "For this example, we will create a DataFrame out of a dictionary:"
   ]
  },
  {
   "cell_type": "code",
   "execution_count": 31,
   "metadata": {},
   "outputs": [
    {
     "data": {
      "text/html": [
       "<div>\n",
       "<style scoped>\n",
       "    .dataframe tbody tr th:only-of-type {\n",
       "        vertical-align: middle;\n",
       "    }\n",
       "\n",
       "    .dataframe tbody tr th {\n",
       "        vertical-align: top;\n",
       "    }\n",
       "\n",
       "    .dataframe thead th {\n",
       "        text-align: right;\n",
       "    }\n",
       "</style>\n",
       "<table border=\"1\" class=\"dataframe\">\n",
       "  <thead>\n",
       "    <tr style=\"text-align: right;\">\n",
       "      <th></th>\n",
       "      <th>Album</th>\n",
       "      <th>Released</th>\n",
       "      <th>Length</th>\n",
       "    </tr>\n",
       "  </thead>\n",
       "  <tbody>\n",
       "    <tr>\n",
       "      <th>0</th>\n",
       "      <td>Thriller</td>\n",
       "      <td>1982</td>\n",
       "      <td>00:42:19</td>\n",
       "    </tr>\n",
       "    <tr>\n",
       "      <th>1</th>\n",
       "      <td>Back in Black</td>\n",
       "      <td>1980</td>\n",
       "      <td>00:42:11</td>\n",
       "    </tr>\n",
       "    <tr>\n",
       "      <th>2</th>\n",
       "      <td>The Dark Side of the Moon</td>\n",
       "      <td>1973</td>\n",
       "      <td>00:42:49</td>\n",
       "    </tr>\n",
       "    <tr>\n",
       "      <th>3</th>\n",
       "      <td>The Bodyguard</td>\n",
       "      <td>1992</td>\n",
       "      <td>00:57:44</td>\n",
       "    </tr>\n",
       "    <tr>\n",
       "      <th>4</th>\n",
       "      <td>Bat Out of Hell</td>\n",
       "      <td>1977</td>\n",
       "      <td>00:46:33</td>\n",
       "    </tr>\n",
       "  </tbody>\n",
       "</table>\n",
       "</div>"
      ],
      "text/plain": [
       "                       Album  Released    Length\n",
       "0                   Thriller      1982  00:42:19\n",
       "1              Back in Black      1980  00:42:11\n",
       "2  The Dark Side of the Moon      1973  00:42:49\n",
       "3              The Bodyguard      1992  00:57:44\n",
       "4            Bat Out of Hell      1977  00:46:33"
      ]
     },
     "execution_count": 31,
     "metadata": {},
     "output_type": "execute_result"
    }
   ],
   "source": [
    "songs = {\n",
    "    'Artist':['Michael Jackson','AC/DC','Pink Floyd','Whitney Houston','Meat Loaf','Eagles','Bee Gees','Fleetwood Mac'],\n",
    "    'Album':['Thriller','Back in Black','The Dark Side of the Moon','The Bodyguard','Bat Out of Hell','Their Greatest Hits','Saturday Night Fever','Rumours'],\n",
    "    'Released':[1982,1980,1973,1992,1977,1976,1977,1977],\n",
    "    'Length':['00:42:19','00:42:11','00:42:49','00:57:44','00:46:33','00:43:08','01:15:54','00:40:01'],\n",
    "    'Genre':['pop, rock, R&B','hard rock','progressive rock','R&B, soul, pop','hard rock, progressive rock','rock, soft rock, folk rock','disco','soft rocl'],\n",
    "    'Music Recording Sales (millions)':[46.0,26.1,24.2,27.4,20.6,32.2,20.6,27.9],\n",
    "    'Claimed Sales (millions)':[65,50,45,44,43,42,40,40],\n",
    "    'Released.1':['30-Nov-82','25-Jul-80','01-Mar-73','17-Nov-92','21-Oct-77','17-Feb-76','15-Nov-77','04-Feb-77'],\n",
    "    \n",
    "}\n",
    "songs_frame = pd.DataFrame(songs)\n",
    "songs_frame.head()"
   ]
  },
  {
   "cell_type": "markdown",
   "metadata": {},
   "source": [
    "The keys in the dictionary correspond to the table headers and the values are lists corresponding to the rows."
   ]
  },
  {
   "cell_type": "markdown",
   "metadata": {},
   "source": [
    "#### Working with data in Pandas\n",
    "- unique() - determines the unique elements in the column of a DataFrame"
   ]
  },
  {
   "cell_type": "code",
   "execution_count": 32,
   "metadata": {},
   "outputs": [
    {
     "data": {
      "text/plain": [
       "array([1982, 1980, 1973, 1992, 1977], dtype=int64)"
      ]
     },
     "execution_count": 32,
     "metadata": {},
     "output_type": "execute_result"
    }
   ],
   "source": [
    "songs_frame['Released'].unique()"
   ]
  },
  {
   "cell_type": "code",
   "execution_count": null,
   "metadata": {},
   "outputs": [],
   "source": []
  }
 ],
 "metadata": {
  "interpreter": {
   "hash": "e171acd309c06983148c9856e741c79a7072f11ec9d548c93ae4f1382cc847af"
  },
  "kernelspec": {
   "display_name": "Python 3.8.12 64-bit ('strive': conda)",
   "language": "python",
   "name": "python3"
  },
  "language_info": {
   "codemirror_mode": {
    "name": "ipython",
    "version": 3
   },
   "file_extension": ".py",
   "mimetype": "text/x-python",
   "name": "python",
   "nbconvert_exporter": "python",
   "pygments_lexer": "ipython3",
   "version": "3.8.12"
  },
  "orig_nbformat": 4
 },
 "nbformat": 4,
 "nbformat_minor": 2
}
