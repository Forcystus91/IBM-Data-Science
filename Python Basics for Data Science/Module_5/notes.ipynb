{
 "cells": [
  {
   "cell_type": "markdown",
   "metadata": {},
   "source": [
    "### Simple APIs\n",
    "Application Program Interfaces, or APIs, let two pieces of software communicate with each other."
   ]
  },
  {
   "cell_type": "code",
   "execution_count": 1,
   "metadata": {},
   "outputs": [],
   "source": [
    "import pandas as pd\n",
    "\n",
    "d = {\n",
    "    'a':[11,21,31],\n",
    "    'b':[12,22,32]\n",
    "}\n",
    "df = pd.DataFrame(d)"
   ]
  },
  {
   "cell_type": "markdown",
   "metadata": {},
   "source": [
    "We use pandas API to process the data by communicating with the other software components. \n",
    "\n",
    "When you create a dictionary, then create a pandas object with the DataFrame constructor, in API lingo, this is an instance.\n",
    "\n",
    "The data in the dictionary is passed along to the pandas API.\n",
    "\n",
    "You then us the dataframe to communicate with the API."
   ]
  },
  {
   "cell_type": "code",
   "execution_count": 2,
   "metadata": {},
   "outputs": [
    {
     "data": {
      "text/html": [
       "<div>\n",
       "<style scoped>\n",
       "    .dataframe tbody tr th:only-of-type {\n",
       "        vertical-align: middle;\n",
       "    }\n",
       "\n",
       "    .dataframe tbody tr th {\n",
       "        vertical-align: top;\n",
       "    }\n",
       "\n",
       "    .dataframe thead th {\n",
       "        text-align: right;\n",
       "    }\n",
       "</style>\n",
       "<table border=\"1\" class=\"dataframe\">\n",
       "  <thead>\n",
       "    <tr style=\"text-align: right;\">\n",
       "      <th></th>\n",
       "      <th>a</th>\n",
       "      <th>b</th>\n",
       "    </tr>\n",
       "  </thead>\n",
       "  <tbody>\n",
       "    <tr>\n",
       "      <th>0</th>\n",
       "      <td>11</td>\n",
       "      <td>12</td>\n",
       "    </tr>\n",
       "    <tr>\n",
       "      <th>1</th>\n",
       "      <td>21</td>\n",
       "      <td>22</td>\n",
       "    </tr>\n",
       "    <tr>\n",
       "      <th>2</th>\n",
       "      <td>31</td>\n",
       "      <td>32</td>\n",
       "    </tr>\n",
       "  </tbody>\n",
       "</table>\n",
       "</div>"
      ],
      "text/plain": [
       "    a   b\n",
       "0  11  12\n",
       "1  21  22\n",
       "2  31  32"
      ]
     },
     "execution_count": 2,
     "metadata": {},
     "output_type": "execute_result"
    }
   ],
   "source": [
    "df.head()"
   ]
  },
  {
   "cell_type": "markdown",
   "metadata": {},
   "source": [
    "When you call the method <code>head()</code>, the DataFrame communicates with the API displaying the first few rows of the DataFrame"
   ]
  },
  {
   "cell_type": "markdown",
   "metadata": {},
   "source": [
    "##### REST APIs\n",
    "REST APIS (Representational State Tranfer) allow you to communicate through the internet, letting you take advantage of resources like storage, access more data, artificial intelligence, algoritsm, and much more\n",
    "\n",
    "You or your code are often referred to as **client**. The web service is referred to as a **resource**.\n",
    "\n",
    "The client sends requests to the resource and the response to the client.\n",
    "- We tell the REST APIs what to do by sending a request\n",
    "    - The request is usually communicated via an HTTP message, which usually contains a JSON file\n",
    "- This contains instructions for what operation we would like the service to perform.\n",
    "    - This operation is transmitted to the webservice via the internet.\n",
    "- The service performs the operation.\n",
    "- The webservice returns a response via an HTTP message where information is usually returned via a JSON file.\n",
    "    - This is transmitted back to the client/\n",
    "\n",
    "For an example, we will us **Py-Coin-Gecko Python Client**, or **Wrapper**, for the Coin Gecko API, updated every minute by Coin-Gecko."
   ]
  },
  {
   "cell_type": "code",
   "execution_count": 4,
   "metadata": {},
   "outputs": [
    {
     "name": "stdout",
     "output_type": "stream",
     "text": [
      "Requirement already satisfied: pycoingecko in c:\\users\\emilio\\anaconda3\\envs\\strive\\lib\\site-packages (2.2.0)\n",
      "Requirement already satisfied: requests in c:\\users\\emilio\\anaconda3\\envs\\strive\\lib\\site-packages (from pycoingecko) (2.26.0)\n",
      "Requirement already satisfied: urllib3<1.27,>=1.21.1 in c:\\users\\emilio\\anaconda3\\envs\\strive\\lib\\site-packages (from requests->pycoingecko) (1.26.7)\n",
      "Requirement already satisfied: charset-normalizer~=2.0.0 in c:\\users\\emilio\\anaconda3\\envs\\strive\\lib\\site-packages (from requests->pycoingecko) (2.0.4)\n",
      "Requirement already satisfied: idna<4,>=2.5 in c:\\users\\emilio\\anaconda3\\envs\\strive\\lib\\site-packages (from requests->pycoingecko) (3.3)\n",
      "Requirement already satisfied: certifi>=2017.4.17 in c:\\users\\emilio\\anaconda3\\envs\\strive\\lib\\site-packages (from requests->pycoingecko) (2021.10.8)\n",
      "Note: you may need to restart the kernel to use updated packages.\n"
     ]
    },
    {
     "ename": "TypeError",
     "evalue": "get_coin_market_chart_by_id() missing 1 required positional argument: 'self'",
     "output_type": "error",
     "traceback": [
      "\u001b[1;31m---------------------------------------------------------------------------\u001b[0m",
      "\u001b[1;31mTypeError\u001b[0m                                 Traceback (most recent call last)",
      "\u001b[1;32m~\\AppData\\Local\\Temp/ipykernel_3124/3584142777.py\u001b[0m in \u001b[0;36m<module>\u001b[1;34m\u001b[0m\n\u001b[0;32m      2\u001b[0m \u001b[1;32mfrom\u001b[0m \u001b[0mpycoingecko\u001b[0m \u001b[1;32mimport\u001b[0m \u001b[0mCoinGeckoAPI\u001b[0m\u001b[1;33m\u001b[0m\u001b[1;33m\u001b[0m\u001b[0m\n\u001b[0;32m      3\u001b[0m \u001b[0mcg\u001b[0m \u001b[1;33m=\u001b[0m \u001b[0mCoinGeckoAPI\u001b[0m\u001b[1;33m\u001b[0m\u001b[1;33m\u001b[0m\u001b[0m\n\u001b[1;32m----> 4\u001b[1;33m \u001b[0mbitcoin_data\u001b[0m \u001b[1;33m=\u001b[0m \u001b[0mcg\u001b[0m\u001b[1;33m.\u001b[0m\u001b[0mget_coin_market_chart_by_id\u001b[0m\u001b[1;33m(\u001b[0m\u001b[0mid\u001b[0m\u001b[1;33m=\u001b[0m\u001b[1;34m'bitcoin'\u001b[0m\u001b[1;33m,\u001b[0m\u001b[0mvs_currency\u001b[0m\u001b[1;33m=\u001b[0m\u001b[1;34m'usd'\u001b[0m\u001b[1;33m,\u001b[0m\u001b[0mdays\u001b[0m\u001b[1;33m=\u001b[0m\u001b[1;36m30\u001b[0m\u001b[1;33m)\u001b[0m\u001b[1;33m\u001b[0m\u001b[1;33m\u001b[0m\u001b[0m\n\u001b[0m",
      "\u001b[1;32m~\\anaconda3\\envs\\strive\\lib\\site-packages\\pycoingecko\\utils.py\u001b[0m in \u001b[0;36minput_args\u001b[1;34m(*args, **kwargs)\u001b[0m\n\u001b[0;32m     10\u001b[0m         \u001b[0margs\u001b[0m \u001b[1;33m=\u001b[0m \u001b[1;33m[\u001b[0m\u001b[0marg_preprocessing\u001b[0m\u001b[1;33m(\u001b[0m\u001b[0mv\u001b[0m\u001b[1;33m)\u001b[0m \u001b[1;32mfor\u001b[0m \u001b[0mv\u001b[0m \u001b[1;32min\u001b[0m \u001b[0margs\u001b[0m\u001b[1;33m]\u001b[0m\u001b[1;33m\u001b[0m\u001b[1;33m\u001b[0m\u001b[0m\n\u001b[0;32m     11\u001b[0m \u001b[1;33m\u001b[0m\u001b[0m\n\u001b[1;32m---> 12\u001b[1;33m         \u001b[1;32mreturn\u001b[0m \u001b[0mfunc\u001b[0m\u001b[1;33m(\u001b[0m\u001b[1;33m*\u001b[0m\u001b[0margs\u001b[0m\u001b[1;33m,\u001b[0m \u001b[1;33m**\u001b[0m\u001b[0mkwargs\u001b[0m\u001b[1;33m)\u001b[0m\u001b[1;33m\u001b[0m\u001b[1;33m\u001b[0m\u001b[0m\n\u001b[0m\u001b[0;32m     13\u001b[0m \u001b[1;33m\u001b[0m\u001b[0m\n\u001b[0;32m     14\u001b[0m     \u001b[1;32mreturn\u001b[0m \u001b[0minput_args\u001b[0m\u001b[1;33m\u001b[0m\u001b[1;33m\u001b[0m\u001b[0m\n",
      "\u001b[1;31mTypeError\u001b[0m: get_coin_market_chart_by_id() missing 1 required positional argument: 'self'"
     ]
    }
   ],
   "source": [
    "%pip install pycoingecko\n",
    "from pycoingecko import CoinGeckoAPI\n",
    "cg = CoinGeckoAPI\n",
    "bitcoin_data = cg.get_coin_market_chart_by_id(id='bitcoin',vs_currency='usd',days=30)"
   ]
  },
  {
   "cell_type": "markdown",
   "metadata": {},
   "source": [
    "### API Keys and Endpoints\n",
    "API Keys are a unique set of characters that the API uses to identify and authorize you. This allows you access to the API.\n",
    "- In many API keys you may get charged for each call\n",
    "\n",
    "An endpoint is simply the location of the service. It's used to find the API on the internet, like a web address."
   ]
  },
  {
   "cell_type": "markdown",
   "metadata": {},
   "source": [
    "### REST APIs & HTTP Requests\n",
    "When the client uses a web page, the browser sends an HTTP request to the server where the page is hosted. The server tries to find the desired resource.\n",
    "\n",
    "A Uniform Resource Locator (URL) is the most popular way to find resources on the web. We can break the URL into three parts:\n",
    "- Scheme: the protocol\n",
    "    - example: http://\n",
    "- Internet address or Base URL: used to find the location\n",
    "    - example: www.ibm.com\n",
    "- Route: location on the web server\n",
    "    - example: /images/IDSNlogo.png"
   ]
  },
  {
   "cell_type": "markdown",
   "metadata": {},
   "source": [
    "##### Request and Response Process\n",
    "Status code:\n",
    "- 100 - indicates that everythng is okay so far\n",
    "- 200 - successfule responses\n",
    "- 400 - the request is unauthorized\n",
    "- 500 - server errors\n",
    "\n",
    "##### Requests library\n",
    "Requests is a python library that allows you to send HTTP/1.1 requests easily"
   ]
  },
  {
   "cell_type": "code",
   "execution_count": 3,
   "metadata": {},
   "outputs": [
    {
     "data": {
      "text/plain": [
       "200"
      ]
     },
     "execution_count": 3,
     "metadata": {},
     "output_type": "execute_result"
    }
   ],
   "source": [
    "import requests\n",
    "url = 'https://www.ibm.com/'\n",
    "r = requests.get(url)   # The response object, which has information about the request\n",
    "r.status_code"
   ]
  },
  {
   "cell_type": "markdown",
   "metadata": {},
   "source": [
    "The status code 200 means the operation was successful.\n",
    "\n",
    "We can also get the request headers:"
   ]
  },
  {
   "cell_type": "code",
   "execution_count": 4,
   "metadata": {},
   "outputs": [
    {
     "data": {
      "text/plain": [
       "{'User-Agent': 'python-requests/2.26.0', 'Accept-Encoding': 'gzip, deflate, br', 'Accept': '*/*', 'Connection': 'keep-alive', 'Cookie': '_abck=E6F33CFD705AAB3946DD27C781E4FE4E~-1~YAAQp93dWK/ASrN9AQAA9orONAeN3HFSsOIqqEjvtp8rAd1kfBcWbzgJNpg1wTLIzi9tFdxeFE4x5G3T298Ey1LxasdvmYg4LKuWOb70ZkjwBMY7eRiLJRWFA1SYZCbUgb9KIlhOdrcAdRafhXwW7sMVGh/dgnPPZ9kmb7SKUytPeZzP6ug6FXXuceeFvx/vN2fER22Lv/GwLUoH+zofLpnBADbSCtk/9l4jYzAsQHqsV5AXGqCzgB6qBV0i0HICOPbGqZG+9tTODMQcOxArj9I49WDkAGRMqv4X1CalkgUzs4FjWIeEtIBgMfWx3dzR3PLRJFzeUJPipYwVw6UAmUKsWIPWOnXOOfYxLyUXPGI5q79/6fU=~-1~-1~-1; bm_sz=1A47C250D8C3869F81911A5A63D8A2AC~YAAQp93dWLDASrN9AQAA9orONA6TRqyKQhA1NVooVazpby0TyCT3mdzxhqtu2tv4EY6lM7+whvTO/WU8mDNAzIJTJdnW0/v8L01yq88GIvs0EQ58UZOoQAcw40Ddz9yTmeNo2NxFc9FPj11N6NVFrORJERNHxYh2seNxm7LBTqr6qWM2jliq0kvFuRPqvuPzgN7UnQX0Yu0WFwV7oYMQVteV9UqsB9OwuSDaIv+AZEcW9rXBbeAQPDcc7cymtJVmEdc8zHBF+SKibZgBNO0xHURIP7pd8bv2O92pnv55fsA=~3682628~4539186'}"
      ]
     },
     "execution_count": 4,
     "metadata": {},
     "output_type": "execute_result"
    }
   ],
   "source": [
    "r.request.headers"
   ]
  },
  {
   "cell_type": "markdown",
   "metadata": {},
   "source": [
    "We can view the request body in the following line. Since there is no body for a GET request, we return a None."
   ]
  },
  {
   "cell_type": "code",
   "execution_count": 6,
   "metadata": {},
   "outputs": [],
   "source": [
    "r.request.body"
   ]
  },
  {
   "cell_type": "markdown",
   "metadata": {},
   "source": [
    "We can view the HTTP response headers. This returns a dictionary of HTTP response headers."
   ]
  },
  {
   "cell_type": "code",
   "execution_count": 7,
   "metadata": {},
   "outputs": [
    {
     "data": {
      "text/plain": [
       "{'Server': 'Apache', 'x-drupal-dynamic-cache': 'UNCACHEABLE', 'Link': '<https://www.ibm.com/de-de>; rel=\"canonical\", <https://www.ibm.com/de-de>; rel=\"revision\", <//1.cms.s81c.com>; rel=preconnect; crossorigin, <//1.cms.s81c.com>; rel=dns-prefetch', 'x-ua-compatible': 'IE=edge', 'Content-Language': 'de-de', 'permissions-policy': 'interest-cohort=()', 'x-generator': 'Drupal 9 (https://www.drupal.org)', 'x-dns-prefetch-control': 'on', 'x-drupal-cache': 'MISS', 'Last-Modified': 'Fri, 07 Jan 2022 05:55:07 GMT', 'ETag': '\"1641534907\"', 'Content-Type': 'text/html; charset=UTF-8', 'x-acquia-host': 'www.ibm.com', 'x-acquia-path': '/de-de', 'x-acquia-site': '', 'x-acquia-purge-tags': '', 'x-varnish': '814844159', 'x-age': '0', 'Accept-Ranges': 'bytes', 'Content-Encoding': 'gzip', 'Cache-Control': 'public, max-age=300', 'Expires': 'Fri, 07 Jan 2022 13:55:58 GMT', 'X-Akamai-Transformed': '9 11793 0 pmb=mTOE,1', 'Date': 'Fri, 07 Jan 2022 13:50:58 GMT', 'Content-Length': '11863', 'Connection': 'keep-alive', 'Vary': 'Accept-Encoding', 'x-content-type-options': 'nosniff', 'X-XSS-Protection': '1; mode=block', 'Content-Security-Policy': 'upgrade-insecure-requests', 'Strict-Transport-Security': 'max-age=31536000', 'x-ibm-trace': 'www-dipatcher: dynamic rule'}"
      ]
     },
     "execution_count": 7,
     "metadata": {},
     "output_type": "execute_result"
    }
   ],
   "source": [
    "header = r.headers\n",
    "header"
   ]
  },
  {
   "cell_type": "markdown",
   "metadata": {},
   "source": [
    "We can look at the dictionary values"
   ]
  },
  {
   "cell_type": "code",
   "execution_count": 8,
   "metadata": {},
   "outputs": [
    {
     "data": {
      "text/plain": [
       "'Fri, 07 Jan 2022 13:50:58 GMT'"
      ]
     },
     "execution_count": 8,
     "metadata": {},
     "output_type": "execute_result"
    }
   ],
   "source": [
    "header['date']"
   ]
  },
  {
   "cell_type": "code",
   "execution_count": 9,
   "metadata": {},
   "outputs": [
    {
     "data": {
      "text/plain": [
       "'text/html; charset=UTF-8'"
      ]
     },
     "execution_count": 9,
     "metadata": {},
     "output_type": "execute_result"
    }
   ],
   "source": [
    "header['Content-Type']"
   ]
  },
  {
   "cell_type": "markdown",
   "metadata": {},
   "source": [
    "Using the response object, 'r', we can also check the encoding:"
   ]
  },
  {
   "cell_type": "code",
   "execution_count": 10,
   "metadata": {},
   "outputs": [
    {
     "data": {
      "text/plain": [
       "'UTF-8'"
      ]
     },
     "execution_count": 10,
     "metadata": {},
     "output_type": "execute_result"
    }
   ],
   "source": [
    "r.encoding"
   ]
  },
  {
   "cell_type": "markdown",
   "metadata": {},
   "source": [
    "Since the content-type is text or html, we can use the attribute text to display the HTML in the body"
   ]
  },
  {
   "cell_type": "code",
   "execution_count": 12,
   "metadata": {},
   "outputs": [
    {
     "data": {
      "text/plain": [
       "'<!DOCTYPE html>\\n<html lang=\"de-de\" dir=\"ltr\">\\n  <head>\\n    <meta charset=\"utf-8\" />\\n<script>digitalD'"
      ]
     },
     "execution_count": 12,
     "metadata": {},
     "output_type": "execute_result"
    }
   ],
   "source": [
    "r.text[:100]"
   ]
  },
  {
   "cell_type": "code",
   "execution_count": 14,
   "metadata": {},
   "outputs": [],
   "source": [
    "url_get = 'http://httpbin.org/get'    # We have the base URL with GET appended to the end\n",
    "payload ={          # To create a Query string, we use the dictionary payload. The keys are the parameter names and the values are the value of the Query string\n",
    "    'name':'Joseph',\n",
    "    'ID':'123'\n",
    "}\n",
    "r = requests.get(url_get,params=payload)    # Then we pass the dictionary to the params parameter of the get() function"
   ]
  },
  {
   "cell_type": "code",
   "execution_count": 20,
   "metadata": {},
   "outputs": [
    {
     "name": "stdout",
     "output_type": "stream",
     "text": [
      "http://httpbin.org/get?name=Joseph&ID=123\n",
      "None\n",
      "200\n"
     ]
    }
   ],
   "source": [
    "print(f'{r.url}\\n{r.request.body}\\n{r.status_code}')"
   ]
  },
  {
   "cell_type": "code",
   "execution_count": 22,
   "metadata": {},
   "outputs": [
    {
     "name": "stdout",
     "output_type": "stream",
     "text": [
      "{\n",
      "  \"args\": {\n",
      "    \"ID\": \"123\", \n",
      "    \"name\": \"Joseph\"\n",
      "  }, \n",
      "  \"headers\": {\n",
      "    \"Accept\": \"*/*\", \n",
      "    \"Accept-Encoding\": \"gzip, deflate, br\", \n",
      "    \"Host\": \"httpbin.org\", \n",
      "    \"User-Agent\": \"python-requests/2.26.0\", \n",
      "    \"X-Amzn-Trace-Id\": \"Root=1-61d8485d-20595e4c3ffd538b0f96bb18\"\n",
      "  }, \n",
      "  \"origin\": \"92.206.237.56\", \n",
      "  \"url\": \"http://httpbin.org/get?name=Joseph&ID=123\"\n",
      "}\n",
      "\n",
      "application/json\n"
     ]
    }
   ],
   "source": [
    "print(r.text)\n",
    "print(r.headers['Content-Type'])"
   ]
  },
  {
   "cell_type": "markdown",
   "metadata": {},
   "source": [
    "Since the content is in JSON, we format it using the method <code>.json()</code>:"
   ]
  },
  {
   "cell_type": "code",
   "execution_count": 23,
   "metadata": {},
   "outputs": [
    {
     "data": {
      "text/plain": [
       "{'args': {'ID': '123', 'name': 'Joseph'},\n",
       " 'headers': {'Accept': '*/*',\n",
       "  'Accept-Encoding': 'gzip, deflate, br',\n",
       "  'Host': 'httpbin.org',\n",
       "  'User-Agent': 'python-requests/2.26.0',\n",
       "  'X-Amzn-Trace-Id': 'Root=1-61d8485d-20595e4c3ffd538b0f96bb18'},\n",
       " 'origin': '92.206.237.56',\n",
       " 'url': 'http://httpbin.org/get?name=Joseph&ID=123'}"
      ]
     },
     "execution_count": 23,
     "metadata": {},
     "output_type": "execute_result"
    }
   ],
   "source": [
    "r.json()"
   ]
  },
  {
   "cell_type": "markdown",
   "metadata": {},
   "source": [
    "It returns a Python dict. The key 'args' has the name and values for the query string."
   ]
  },
  {
   "cell_type": "code",
   "execution_count": 24,
   "metadata": {},
   "outputs": [
    {
     "data": {
      "text/plain": [
       "{'ID': '123', 'name': 'Joseph'}"
      ]
     },
     "execution_count": 24,
     "metadata": {},
     "output_type": "execute_result"
    }
   ],
   "source": [
    "r.json()['args']"
   ]
  },
  {
   "cell_type": "markdown",
   "metadata": {},
   "source": [
    "##### Post Request\n",
    "A post request is used to send data to a server, but the post request sends the data in a request body, not the url.\n",
    "\n",
    "In order to send the post request in the URL, we change the route to POST"
   ]
  },
  {
   "cell_type": "code",
   "execution_count": 27,
   "metadata": {},
   "outputs": [],
   "source": [
    "url_post = 'http://httpbin.org/post'\n",
    "payload ={\n",
    "    'name':'Joseph',\n",
    "    'ID':'123'\n",
    "}\n",
    "r_post = requests.post(url_post,data=payload)"
   ]
  },
  {
   "cell_type": "markdown",
   "metadata": {},
   "source": [
    "To make a post request, we use the <code>post()</code> function.\n",
    "\n",
    "The variable <code>payload</code> is passed to the parameter data."
   ]
  },
  {
   "cell_type": "code",
   "execution_count": 28,
   "metadata": {},
   "outputs": [
    {
     "name": "stdout",
     "output_type": "stream",
     "text": [
      "POST request URL: http://httpbin.org/post\n",
      "GET request URL: http://httpbin.org/get?name=Joseph&ID=123\n"
     ]
    }
   ],
   "source": [
    "print(f'POST request URL: {r_post.url}')\n",
    "print(f'GET request URL: {r.url}')"
   ]
  },
  {
   "cell_type": "code",
   "execution_count": 1,
   "metadata": {},
   "outputs": [
    {
     "ename": "NameError",
     "evalue": "name 'r_post' is not defined",
     "output_type": "error",
     "traceback": [
      "\u001b[1;31m---------------------------------------------------------------------------\u001b[0m",
      "\u001b[1;31mNameError\u001b[0m                                 Traceback (most recent call last)",
      "\u001b[1;32m~\\AppData\\Local\\Temp/ipykernel_12340/3436723812.py\u001b[0m in \u001b[0;36m<module>\u001b[1;34m\u001b[0m\n\u001b[1;32m----> 1\u001b[1;33m \u001b[0mprint\u001b[0m\u001b[1;33m(\u001b[0m\u001b[1;34mf'POST request URL: {r_post.request.body}'\u001b[0m\u001b[1;33m)\u001b[0m\u001b[1;33m\u001b[0m\u001b[1;33m\u001b[0m\u001b[0m\n\u001b[0m\u001b[0;32m      2\u001b[0m \u001b[0mprint\u001b[0m\u001b[1;33m(\u001b[0m\u001b[1;34mf'GET request URL: {r.request.body}'\u001b[0m\u001b[1;33m)\u001b[0m\u001b[1;33m\u001b[0m\u001b[1;33m\u001b[0m\u001b[0m\n",
      "\u001b[1;31mNameError\u001b[0m: name 'r_post' is not defined"
     ]
    }
   ],
   "source": [
    "print(f'POST request URL: {r_post.request.body}')\n",
    "print(f'GET request URL: {r.request.body}')"
   ]
  },
  {
   "cell_type": "markdown",
   "metadata": {},
   "source": [
    "### HTML for Webscraping\n",
    "The web page is comprised of HTML. It consist of text surronded by a series of blue text elements enclosed in angle brackets. The tags tell the browser how to display the content.\n",
    "\n",
    "The first portion contains the \"DOCTYPE html\", which determines the documents type.\n",
    "\n",
    "Next we have the body. This is what is displayed on the webpage\n",
    "\n",
    "#### Webscraping"
   ]
  },
  {
   "cell_type": "code",
   "execution_count": 2,
   "metadata": {},
   "outputs": [],
   "source": [
    "from bs4 import BeautifulSoup"
   ]
  },
  {
   "cell_type": "markdown",
   "metadata": {},
   "source": [
    "We can store the webpage HTML as a string.\n",
    "\n",
    "To parse the document, pass it into the BeautifulSoup constructor. We get the BeautifulSoup object which represents the document as a nested data structure."
   ]
  },
  {
   "cell_type": "markdown",
   "metadata": {},
   "source": [
    "BeautifulSoup represents HTML as a set of Tree like objects with methods used to parse the HTML"
   ]
  }
 ],
 "metadata": {
  "interpreter": {
   "hash": "e171acd309c06983148c9856e741c79a7072f11ec9d548c93ae4f1382cc847af"
  },
  "kernelspec": {
   "display_name": "Python 3.8.12 64-bit ('strive': conda)",
   "language": "python",
   "name": "python3"
  },
  "language_info": {
   "codemirror_mode": {
    "name": "ipython",
    "version": 3
   },
   "file_extension": ".py",
   "mimetype": "text/x-python",
   "name": "python",
   "nbconvert_exporter": "python",
   "pygments_lexer": "ipython3",
   "version": "3.8.12"
  },
  "orig_nbformat": 4
 },
 "nbformat": 4,
 "nbformat_minor": 2
}
