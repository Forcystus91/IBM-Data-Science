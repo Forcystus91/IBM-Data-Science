{
 "cells": [
  {
   "cell_type": "markdown",
   "metadata": {},
   "source": [
    "Python has many different kinds of data types:\n",
    "- integers\n",
    "- strings\n",
    "- lists\n",
    "- dictionaries\n",
    "- booleans\n",
    "\n",
    "In Python, each is an object.\n",
    "\n",
    "every object has a following:\n",
    "- a type\n",
    "- internal representation\n",
    "- a set of functions called methods to interact with the data\n",
    "\n",
    "An object is an instance of a particular type. If we define five integer variables, we are creating five instances of type interger objects.\n",
    "\n",
    "We can find the type of an object by using the <code>type()</code> command.\n",
    "\n",
    "A class, or type's, methods are functions that every instance of that class or type provides. It's how you interact with the object. We call the method by adding a period at the end of the object's name and the method's name we would like to call."
   ]
  },
  {
   "cell_type": "markdown",
   "metadata": {},
   "source": [
    "### Defining classes\n",
    "You can create your own type or clas in Python.\n",
    "\n",
    "The class has data attributes and methods. The class data attributes define the class.\n",
    "\n",
    "For example, let's create a class circle."
   ]
  },
  {
   "cell_type": "code",
   "execution_count": null,
   "metadata": {},
   "outputs": [],
   "source": [
    "# class circle(object):"
   ]
  },
  {
   "cell_type": "markdown",
   "metadata": {},
   "source": [
    "We need to include the class definition (<code>class</class>), the name of the class(<code>circle</code>) and the class parent (<code>object</code>).\n",
    "\n",
    "Next we need to continue building the circle class"
   ]
  },
  {
   "cell_type": "code",
   "execution_count": 1,
   "metadata": {},
   "outputs": [],
   "source": [
    "class circle(object):\n",
    "    def __init__(self,radius,color):    # the function _init_ is a constructor, it tells Python you are making a new class\n",
    "        # The radius and color parametes are used to initialize the attributes of the class instance\n",
    "        # The self parameter refers to the newly created instance of the class\n",
    "        self.radius=radius;\n",
    "        self.color=color;\n",
    "\n",
    "class rectangle(object):\n",
    "    def __init__(self,color,height,width):\n",
    "        self.height=height;\n",
    "        self.width=width;\n",
    "        self.color=color;"
   ]
  },
  {
   "cell_type": "markdown",
   "metadata": {},
   "source": [
    "In order to create an object of class circle, we introduce a variable. We create the object by using the object constructor.\n",
    "\n",
    "The object constructor consists of the name of the class as well as the parameters. These are the data attributes.\n",
    "\n",
    "When we create a circle object, we call the code like a function"
   ]
  },
  {
   "cell_type": "code",
   "execution_count": 2,
   "metadata": {},
   "outputs": [],
   "source": [
    "red_circle = circle(10,'red')"
   ]
  },
  {
   "cell_type": "markdown",
   "metadata": {},
   "source": [
    "Typing the object's name followed by a dot and the data attribute gives us the data atribute value."
   ]
  },
  {
   "cell_type": "code",
   "execution_count": 3,
   "metadata": {},
   "outputs": [
    {
     "data": {
      "text/plain": [
       "10"
      ]
     },
     "execution_count": 3,
     "metadata": {},
     "output_type": "execute_result"
    }
   ],
   "source": [
    "red_circle.radius"
   ]
  },
  {
   "cell_type": "markdown",
   "metadata": {},
   "source": [
    "We can also change the data attribute directly:"
   ]
  },
  {
   "cell_type": "code",
   "execution_count": 5,
   "metadata": {},
   "outputs": [
    {
     "data": {
      "text/plain": [
       "'blue'"
      ]
     },
     "execution_count": 5,
     "metadata": {},
     "output_type": "execute_result"
    }
   ],
   "source": [
    "c1 = circle(10,'red')\n",
    "c1.color = 'blue'\n",
    "c1.color"
   ]
  },
  {
   "cell_type": "markdown",
   "metadata": {},
   "source": [
    "Methods are functions that interact and change the data attributes of the object.\n",
    "\n",
    "Let's say we want to change the size of a circle. This involves changing the radius attribute.\n",
    "\n",
    "We add a method, add radius, to the class circle. "
   ]
  },
  {
   "cell_type": "code",
   "execution_count": 6,
   "metadata": {},
   "outputs": [],
   "source": [
    "class circle(object):\n",
    "    def __init__(self,radius,color):\n",
    "        self.radius=radius;\n",
    "        self.color=color;\n",
    "    \n",
    "    def add_radius(self,r):\n",
    "        # The method has a function that requires the self as well as other parameters. \n",
    "        # In this case, we are going to add a value to the radius\n",
    "        self.radius=self.radius+r"
   ]
  },
  {
   "cell_type": "markdown",
   "metadata": {},
   "source": [
    "No we create an object and call the add_radius method. As before, we create an object with the object constructor"
   ]
  },
  {
   "cell_type": "code",
   "execution_count": 7,
   "metadata": {},
   "outputs": [],
   "source": [
    "c1 = circle(2,'red')"
   ]
  },
  {
   "cell_type": "markdown",
   "metadata": {},
   "source": [
    "We call the method by adding a dot followed by the method name."
   ]
  },
  {
   "cell_type": "code",
   "execution_count": 9,
   "metadata": {},
   "outputs": [
    {
     "data": {
      "text/plain": [
       "18"
      ]
     },
     "execution_count": 9,
     "metadata": {},
     "output_type": "execute_result"
    }
   ],
   "source": [
    "c1.add_radius(8)\n",
    "c1.radius"
   ]
  },
  {
   "cell_type": "markdown",
   "metadata": {},
   "source": [
    "The <code>dir</code> function is useful for obtaining the list of data attributes and methods associated with a class.\n",
    "\n",
    "The return value is a list of the objects data attributes"
   ]
  },
  {
   "cell_type": "code",
   "execution_count": 10,
   "metadata": {},
   "outputs": [
    {
     "data": {
      "text/plain": [
       "['__class__',\n",
       " '__delattr__',\n",
       " '__dict__',\n",
       " '__dir__',\n",
       " '__doc__',\n",
       " '__eq__',\n",
       " '__format__',\n",
       " '__ge__',\n",
       " '__getattribute__',\n",
       " '__gt__',\n",
       " '__hash__',\n",
       " '__init__',\n",
       " '__init_subclass__',\n",
       " '__le__',\n",
       " '__lt__',\n",
       " '__module__',\n",
       " '__ne__',\n",
       " '__new__',\n",
       " '__reduce__',\n",
       " '__reduce_ex__',\n",
       " '__repr__',\n",
       " '__setattr__',\n",
       " '__sizeof__',\n",
       " '__str__',\n",
       " '__subclasshook__',\n",
       " '__weakref__',\n",
       " 'add_radius']"
      ]
     },
     "execution_count": 10,
     "metadata": {},
     "output_type": "execute_result"
    }
   ],
   "source": [
    "dir(circle)"
   ]
  }
 ],
 "metadata": {
  "interpreter": {
   "hash": "e171acd309c06983148c9856e741c79a7072f11ec9d548c93ae4f1382cc847af"
  },
  "kernelspec": {
   "display_name": "Python 3.8.12 64-bit ('strive': conda)",
   "language": "python",
   "name": "python3"
  },
  "language_info": {
   "codemirror_mode": {
    "name": "ipython",
    "version": 3
   },
   "file_extension": ".py",
   "mimetype": "text/x-python",
   "name": "python",
   "nbconvert_exporter": "python",
   "pygments_lexer": "ipython3",
   "version": "3.8.12"
  },
  "orig_nbformat": 4
 },
 "nbformat": 4,
 "nbformat_minor": 2
}
